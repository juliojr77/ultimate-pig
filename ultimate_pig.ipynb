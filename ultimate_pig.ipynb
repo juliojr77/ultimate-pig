{
 "cells": [
  {
   "cell_type": "code",
   "execution_count": 1,
   "metadata": {
    "collapsed": true
   },
   "outputs": [],
   "source": [
    "import random\n",
    "\n",
    "\n",
    "def get_a_roll_value():\n",
    "    return random.randint(1,6)\n",
    "\n",
    "\n",
    "class BasePlayer:\n",
    "\n",
    "    def __init__(self):\n",
    "        self.points_per_turn = 0\n",
    "        self.total_score_per_game = 0\n",
    "        self.rolls_counter = 0\n",
    "\n",
    "    def roll_again(self):\n",
    "        return True\n",
    "    \n",
    "    def get_turn_score(self):\n",
    "\n",
    "        while True:\n",
    "            \n",
    "            roll = get_a_roll_value()\n",
    "            \n",
    "            self.rolls_counter += 1\n",
    "            if roll == 1:\n",
    "                break\n",
    "            else:\n",
    "                self.points_per_turn += roll\n",
    "            if not self.roll_again():\n",
    "                break\n",
    "        #print(points_per_turn)\n",
    "        return self.points_per_turn       "
   ]
  },
  {
   "cell_type": "code",
   "execution_count": 2,
   "metadata": {
    "collapsed": true
   },
   "outputs": [],
   "source": [
    "class PigGame():\n",
    "        \n",
    "    def __init__(self, player):\n",
    "        self.player = player\n",
    "        \n",
    "    def play(self):\n",
    "\n",
    "        player_turn = BasePlayer()\n",
    "        single_game_score = 0\n",
    "    \n",
    "        for _ in range(1,8):     \n",
    "            single_game_score += player_turn.get_turn_score()\n",
    "            \n",
    "            \n",
    "        print(player_turn.points_per_turn)\n",
    "        return player_turn.points_per_turn"
   ]
  },
  {
   "cell_type": "code",
   "execution_count": 3,
   "metadata": {
    "collapsed": true
   },
   "outputs": [],
   "source": [
    "julio = PigGame(BasePlayer())"
   ]
  },
  {
   "cell_type": "code",
   "execution_count": 5,
   "metadata": {
    "collapsed": false
   },
   "outputs": [
    {
     "name": "stdout",
     "output_type": "stream",
     "text": [
      "152\n",
      "152\n"
     ]
    }
   ],
   "source": [
    "print('{}'.format(julio.play()))"
   ]
  },
  {
   "cell_type": "code",
   "execution_count": null,
   "metadata": {
    "collapsed": true
   },
   "outputs": [],
   "source": []
  }
 ],
 "metadata": {
  "kernelspec": {
   "display_name": "Python 3",
   "language": "python",
   "name": "python3"
  },
  "language_info": {
   "codemirror_mode": {
    "name": "ipython",
    "version": 3
   },
   "file_extension": ".py",
   "mimetype": "text/x-python",
   "name": "python",
   "nbconvert_exporter": "python",
   "pygments_lexer": "ipython3",
   "version": "3.5.1"
  }
 },
 "nbformat": 4,
 "nbformat_minor": 0
}
